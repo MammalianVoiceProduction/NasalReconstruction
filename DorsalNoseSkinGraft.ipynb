{
 "cells": [
  {
   "cell_type": "code",
   "execution_count": 2,
   "id": "18483dac-070a-44d8-8824-3793c530112c",
   "metadata": {},
   "outputs": [
    {
     "name": "stdout",
     "output_type": "stream",
     "text": [
      "Automatic calling is: Full\n"
     ]
    }
   ],
   "source": [
    "%autocall 2"
   ]
  },
  {
   "cell_type": "code",
   "execution_count": 5,
   "id": "0884807e-2128-4cf0-86a7-0d7699fe08b4",
   "metadata": {},
   "outputs": [],
   "source": [
    "import numpy as np\n",
    "\n",
    "from scipy import stats\n",
    "\n",
    "import pprint"
   ]
  },
  {
   "cell_type": "code",
   "execution_count": null,
   "id": "c8b6947d-c1d2-4811-8c72-e37c882f9389",
   "metadata": {},
   "outputs": [],
   "source": []
  },
  {
   "cell_type": "code",
   "execution_count": 4,
   "id": "8c64eafc-6667-46f8-b552-3537dcf2dfef",
   "metadata": {},
   "outputs": [
    {
     "data": {
      "text/plain": [
       "{'noskin': {'g0.25mm': [0.07, 0.13, 0.07],\n",
       "  'g0.50mm': [0.09, 0.12, 0.09],\n",
       "  'g1.00mm': [0.15, 0.15, 0.18]},\n",
       " 'skin': {'g0.25mm': [0.073, 0.088, 0.073],\n",
       "  'g0.50mm': [0.056, 0.058, 0.081],\n",
       "  'g1.00mm': [0.057, 0.061, 0.063]}}"
      ]
     },
     "execution_count": 4,
     "metadata": {},
     "output_type": "execute_result"
    }
   ],
   "source": [
    "bumps = dict(noskin = {'g0.25mm': [0.07, 0.13, 0.07],\n",
    "                       'g0.50mm': [0.09, 0.12, 0.09],\n",
    "                       'g1.00mm': [0.15, 0.15, 0.18]},\n",
    "            skin = {'g0.25mm': [0.073, 0.088, 0.073],\n",
    "                    'g0.50mm': [0.056, 0.058, 0.081],\n",
    "                    'g1.00mm': [0.057, 0.061, 0.063]})\n",
    "\n",
    "bumps"
   ]
  },
  {
   "cell_type": "code",
   "execution_count": 13,
   "id": "0c7c81c0-1387-4ccb-ab0f-1fbf8c767dad",
   "metadata": {},
   "outputs": [
    {
     "data": {
      "text/plain": [
       "[(0.09000000000000001, 0.0282842712474619),\n",
       " (0.09999999999999999, 0.01414213562373095),\n",
       " (0.16, 0.01414213562373095)]"
      ]
     },
     "execution_count": 13,
     "metadata": {},
     "output_type": "execute_result"
    }
   ],
   "source": [
    "skinstatus = 'noskin'\n",
    "\n",
    "[(np.mean(v), np.std(v)) for v in bumps[skinstatus].values()]"
   ]
  },
  {
   "cell_type": "code",
   "execution_count": 14,
   "id": "49a16775-228d-4557-ad87-265a5460e3a2",
   "metadata": {},
   "outputs": [
    {
     "data": {
      "text/plain": [
       "[(0.078, 0.007071067811865475),\n",
       " (0.065, 0.011343133018115703),\n",
       " (0.06033333333333333, 0.0024944382578492934)]"
      ]
     },
     "execution_count": 14,
     "metadata": {},
     "output_type": "execute_result"
    }
   ],
   "source": [
    "skinstatus = 'skin'\n",
    "\n",
    "[(np.mean(v), np.std(v)) for v in bumps[skinstatus].values()]"
   ]
  },
  {
   "cell_type": "code",
   "execution_count": 6,
   "id": "768879a7-12ee-48a6-b533-8898f50baecc",
   "metadata": {},
   "outputs": [
    {
     "data": {
      "text/plain": [
       "array([0.07, 0.13, 0.07, 0.09, 0.12, 0.09, 0.15, 0.15, 0.18])"
      ]
     },
     "execution_count": 6,
     "metadata": {},
     "output_type": "execute_result"
    }
   ],
   "source": [
    "np.array([v for v in bumps['noskin'].values()]).flatten()"
   ]
  },
  {
   "cell_type": "markdown",
   "id": "74239924-4795-4263-aa53-43434e66227a",
   "metadata": {},
   "source": [
    "# linear regression"
   ]
  },
  {
   "cell_type": "code",
   "execution_count": 7,
   "id": "f91e7f54-2221-49b4-8624-0b95d9584852",
   "metadata": {},
   "outputs": [
    {
     "data": {
      "text/plain": [
       "[0.25, 0.25, 0.25, 0.5, 0.5, 0.5, 1.0, 1.0, 1.0]"
      ]
     },
     "execution_count": 7,
     "metadata": {},
     "output_type": "execute_result"
    }
   ],
   "source": [
    "grainsizes = [0.25] * 3 + [0.5] * 3 + [1.0] * 3\n",
    "grainsizes"
   ]
  },
  {
   "cell_type": "code",
   "execution_count": 8,
   "id": "6faf799b-731d-4b89-a41a-5205418cab28",
   "metadata": {},
   "outputs": [
    {
     "data": {
      "text/plain": [
       "LinregressResult(slope=0.09714285714285711, intercept=0.06000000000000001, rvalue=0.8226876614429063, pvalue=0.0032340960171704214, stderr=0.0253718698251756, intercept_stderr=0.01678191446352962)"
      ]
     },
     "execution_count": 8,
     "metadata": {},
     "output_type": "execute_result"
    }
   ],
   "source": [
    "skinstatus = 'noskin'\n",
    "\n",
    "noskinregression = stats.linregress(grainsizes, y = np.array([v for v in bumps[skinstatus].values()]).flatten(), alternative = 'greater')\n",
    "noskinregression"
   ]
  },
  {
   "cell_type": "code",
   "execution_count": 9,
   "id": "e6401108-8fd4-4f87-a666-d2fa280605d1",
   "metadata": {},
   "outputs": [
    {
     "data": {
      "text/plain": [
       "LinregressResult(slope=-0.02152380952380952, intercept=0.08033333333333333, rvalue=-0.619115348967662, pvalue=0.03771489986544242, stderr=0.010318918438740747, intercept_stderr=0.006825322997016728)"
      ]
     },
     "execution_count": 9,
     "metadata": {},
     "output_type": "execute_result"
    }
   ],
   "source": [
    "skinstatus = 'skin'\n",
    "\n",
    "skinregression = stats.linregress(grainsizes, y = np.array([v for v in bumps[skinstatus].values()]).flatten(), alternative = 'less')\n",
    "skinregression"
   ]
  },
  {
   "cell_type": "markdown",
   "id": "d1688c4d-acd1-4049-a906-dcbac42a7bbd",
   "metadata": {},
   "source": [
    "# Calculate the T-test for the means of *two independent* samples of scores."
   ]
  },
  {
   "cell_type": "code",
   "execution_count": 10,
   "id": "cdf101ae-25fa-4ad3-a58d-a5c5c62950bd",
   "metadata": {},
   "outputs": [
    {
     "data": {
      "text/plain": [
       "TtestResult(statistic=0.5820855000871997, pvalue=0.6135797925850816, df=2.249027237354086)"
      ]
     },
     "execution_count": 10,
     "metadata": {},
     "output_type": "execute_result"
    }
   ],
   "source": [
    "grainsize = 'g0.25mm'\n",
    "stats.ttest_ind(bumps['noskin'][grainsize], bumps['skin'][grainsize], equal_var = False)"
   ]
  },
  {
   "cell_type": "code",
   "execution_count": 11,
   "id": "22c6539c-a2f1-4547-8c08-f31d6ba109c3",
   "metadata": {},
   "outputs": [
    {
     "data": {
      "text/plain": [
       "TtestResult(statistic=2.730267579334804, pvalue=0.05512813225573817, df=3.820053595706057)"
      ]
     },
     "execution_count": 11,
     "metadata": {},
     "output_type": "execute_result"
    }
   ],
   "source": [
    "grainsize = 'g0.50mm'\n",
    "stats.ttest_ind(bumps['noskin'][grainsize], bumps['skin'][grainsize], equal_var = False)"
   ]
  },
  {
   "cell_type": "code",
   "execution_count": 12,
   "id": "c5ad200c-1d72-45ce-8c0a-6b820784f3fc",
   "metadata": {},
   "outputs": [
    {
     "data": {
      "text/plain": [
       "TtestResult(statistic=9.815155856264262, pvalue=0.008348325379387608, df=2.1243241109839364)"
      ]
     },
     "execution_count": 12,
     "metadata": {},
     "output_type": "execute_result"
    }
   ],
   "source": [
    "grainsize = 'g1.00mm'\n",
    "stats.ttest_ind(bumps['noskin'][grainsize], bumps['skin'][grainsize], equal_var = False)"
   ]
  },
  {
   "cell_type": "code",
   "execution_count": 15,
   "id": "063d7d4c-45e0-42ba-aa48-fb5992fd7e5a",
   "metadata": {},
   "outputs": [
    {
     "data": {
      "text/plain": [
       "TtestResult(statistic=-0.4472135954999571, pvalue=0.685598414476156, df=2.9411764705882355)"
      ]
     },
     "execution_count": 15,
     "metadata": {},
     "output_type": "execute_result"
    }
   ],
   "source": [
    "skinstatus = 'noskin'\n",
    "\n",
    "stats.ttest_ind(bumps[skinstatus]['g0.25mm'], bumps[skinstatus]['g0.50mm'], equal_var = False)"
   ]
  },
  {
   "cell_type": "code",
   "execution_count": 16,
   "id": "71cddf08-9f84-44de-9998-f97902bc03f7",
   "metadata": {},
   "outputs": [
    {
     "data": {
      "text/plain": [
       "TtestResult(statistic=-4.242640687119286, pvalue=0.013235599563682683, df=3.9999999999999996)"
      ]
     },
     "execution_count": 16,
     "metadata": {},
     "output_type": "execute_result"
    }
   ],
   "source": [
    "skinstatus = 'noskin'\n",
    "\n",
    "stats.ttest_ind(bumps[skinstatus]['g0.50mm'], bumps[skinstatus]['g1.00mm'], equal_var = False)"
   ]
  },
  {
   "cell_type": "code",
   "execution_count": 19,
   "id": "687b8fbd-857b-474c-b300-de0f2306055d",
   "metadata": {},
   "outputs": [
    {
     "data": {
      "text/plain": [
       "TtestResult(statistic=-3.130495168499705, pvalue=0.05345505265519305, df=2.9411764705882355)"
      ]
     },
     "execution_count": 19,
     "metadata": {},
     "output_type": "execute_result"
    }
   ],
   "source": [
    "skinstatus = 'noskin'\n",
    "\n",
    "stats.ttest_ind(bumps[skinstatus]['g0.25mm'], bumps[skinstatus]['g1.00mm'], equal_var = False)"
   ]
  },
  {
   "cell_type": "markdown",
   "id": "5ecbab6e-42f8-417e-aebe-191d375ebb21",
   "metadata": {},
   "source": [
    "# one-way ANOVA"
   ]
  },
  {
   "cell_type": "code",
   "execution_count": 20,
   "id": "66ba4283-25f1-4f7b-9058-c642105bc267",
   "metadata": {},
   "outputs": [
    {
     "data": {
      "text/plain": [
       "F_onewayResult(statistic=7.166666666666663, pvalue=0.02569378053669692)"
      ]
     },
     "execution_count": 20,
     "metadata": {},
     "output_type": "execute_result"
    }
   ],
   "source": [
    "skinstatus = 'noskin'\n",
    "\n",
    "stats.f_oneway(bumps[skinstatus]['g0.25mm'], bumps[skinstatus]['g0.50mm'], bumps[skinstatus]['g1.00mm'])"
   ]
  },
  {
   "cell_type": "code",
   "execution_count": 21,
   "id": "a27ae64c-bca2-4aba-b4e1-6005806882f7",
   "metadata": {},
   "outputs": [
    {
     "data": {
      "text/plain": [
       "F_onewayResult(statistic=2.719951923076923, pvalue=0.1442735202495694)"
      ]
     },
     "execution_count": 21,
     "metadata": {},
     "output_type": "execute_result"
    }
   ],
   "source": [
    "skinstatus = 'skin'\n",
    "\n",
    "stats.f_oneway(bumps[skinstatus]['g0.25mm'], bumps[skinstatus]['g0.50mm'], bumps[skinstatus]['g1.00mm'])"
   ]
  },
  {
   "cell_type": "code",
   "execution_count": null,
   "id": "09a4566a-fe79-4fc5-b84d-a3067a502efc",
   "metadata": {},
   "outputs": [],
   "source": []
  }
 ],
 "metadata": {
  "kernelspec": {
   "display_name": "Python 3 (ipykernel)",
   "language": "python",
   "name": "python3"
  },
  "language_info": {
   "codemirror_mode": {
    "name": "ipython",
    "version": 3
   },
   "file_extension": ".py",
   "mimetype": "text/x-python",
   "name": "python",
   "nbconvert_exporter": "python",
   "pygments_lexer": "ipython3",
   "version": "3.11.3"
  }
 },
 "nbformat": 4,
 "nbformat_minor": 5
}
